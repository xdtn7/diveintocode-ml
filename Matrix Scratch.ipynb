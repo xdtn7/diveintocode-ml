{
 "metadata": {
  "language_info": {
   "codemirror_mode": {
    "name": "ipython",
    "version": 3
   },
   "file_extension": ".py",
   "mimetype": "text/x-python",
   "name": "python",
   "nbconvert_exporter": "python",
   "pygments_lexer": "ipython3",
   "version": "3.9.1"
  },
  "orig_nbformat": 2,
  "kernelspec": {
   "name": "python391jvsc74a57bd01c9fbd871625fd775f632b14751d97124a4c65bc1fb4fe95cba3d6f79d39ea0a",
   "display_name": "Python 3.9.1 64-bit"
  }
 },
 "nbformat": 4,
 "nbformat_minor": 2,
 "cells": [
  {
   "source": [
    "# Mathematics for Machine Learning Pre-Class assignment 3 Matrix Scratch"
   ],
   "cell_type": "markdown",
   "metadata": {}
  },
  {
   "source": [
    "## Support libraries and functions"
   ],
   "cell_type": "markdown",
   "metadata": {}
  },
  {
   "cell_type": "code",
   "execution_count": 2,
   "metadata": {},
   "outputs": [],
   "source": [
    "import math\n",
    "import numpy as np\n",
    "import matplotlib.pyplot as plt"
   ]
  },
  {
   "cell_type": "code",
   "execution_count": 7,
   "metadata": {},
   "outputs": [],
   "source": [
    "def ans(msg, indent=1, width=None, title=None):\n",
    "    msg = \" ANSWER: \" + msg + \"  \"\n",
    "    lines = msg.split('\\n')\n",
    "    space = \" \" * indent\n",
    "    if not width:\n",
    "        width = max(map(len, lines))\n",
    "    box = f'╔{\"═\" * (width + indent * 2)}╗\\n'\n",
    "    if title:\n",
    "        box += f'║{space}{title:<{width}}{space}║\\n'  # title\n",
    "        box += f'║{space}{\"-\" * len(title):<{width}}{space}║\\n'  # underscore\n",
    "    box += ''.join([f'║{space}{line:<{width}}{space}║\\n' for line in lines])\n",
    "    box += f'╚{\"═\" * (width + indent * 2)}╝'  # lower_border\n",
    "    print(\"\\n\"+box)"
   ]
  },
  {
   "source": [
    "## [Problem 1] Matrix product is calculated manually"
   ],
   "cell_type": "markdown",
   "metadata": {}
  },
  {
   "source": [
    "$$\n",
    "A.B = \n",
    "\\left[\n",
    "\\begin{array}{ccc}\n",
    "  (-1)\\times0+2\\times0+3\\times2 & (-1)\\times2+2\\times2+3\\times9 & (-1)\\times1+2\\times(-8)+3\\times(-1) \\\\\n",
    "  4\\times0+(-5)\\times0+6\\times2 & 4\\times2+(-5)\\times2+6\\times9 & 4\\times1+(-5)\\times(-8)+6\\times(-1) \\\\\n",
    "  7\\times0+8\\times0+(-9)\\times2 & -7\\times0+8\\times2+(-9)\\times9 & 7\\times1+8\\times(-8)+(-9)\\times(-1)\n",
    "\\end{array}\n",
    "\\right]\n",
    "\\\\\n",
    "A.B =\n",
    "\\left[\n",
    "\\begin{array}{ccc}\n",
    "  6 & 29 & -20 \\\\\n",
    "  12 & 52 & 38 \\\\\n",
    "  -18 & -51 & -48\n",
    "\\end{array}\n",
    "\\right]\n",
    "$$\n"
   ],
   "cell_type": "markdown",
   "metadata": {}
  },
  {
   "source": [
    "## [Problem 2] Calculation by NumPy function"
   ],
   "cell_type": "markdown",
   "metadata": {}
  },
  {
   "cell_type": "code",
   "execution_count": 4,
   "metadata": {},
   "outputs": [],
   "source": [
    "A = np.array([[-1, 2, 3], [4, -5, 6], [7, 8, -9]])\n",
    "B = np.array([[0, 2, 1], [0, 2, -8], [2, 9, -1]])"
   ]
  },
  {
   "cell_type": "code",
   "execution_count": 8,
   "metadata": {},
   "outputs": [
    {
     "output_type": "stream",
     "name": "stdout",
     "text": [
      "\n╔═════════════════════════════════════════╗\n║  ANSWER: Result when using np.matmul(): ║\n║ [[  6  29 -20]                          ║\n║  [ 12  52  38]                          ║\n║  [-18 -51 -48]]                         ║\n╚═════════════════════════════════════════╝\n\n╔══════════════════════════════════════╗\n║  ANSWER: Result when using np.dot(): ║\n║ [[  6  29 -20]                       ║\n║  [ 12  52  38]                       ║\n║  [-18 -51 -48]]                      ║\n╚══════════════════════════════════════╝\n\n╔════════════════════════════════════════╗\n║  ANSWER: Result when using @ operator: ║\n║ [[  6  29 -20]                         ║\n║  [ 12  52  38]                         ║\n║  [-18 -51 -48]]                        ║\n╚════════════════════════════════════════╝\n"
     ]
    }
   ],
   "source": [
    "ans(\"Result when using np.matmul():\\n{}\".format(np.matmul(A,B)))\n",
    "ans(\"Result when using np.dot():\\n{}\".format(np.dot(A,B)))\n",
    "ans(\"Result when using @ operator:\\n{}\".format(A @ B))"
   ]
  },
  {
   "cell_type": "code",
   "execution_count": 12,
   "metadata": {},
   "outputs": [
    {
     "output_type": "stream",
     "name": "stdout",
     "text": [
      "\n╔═════════════════════════════════════════════════════════════════════╗\n║  ANSWER: Result calculated from scratch implementation using NumPy: ║\n║ [[  6  29 -20]                                                      ║\n║  [ 12  52  38]                                                      ║\n║  [-18 -51 -48]]                                                     ║\n╚═════════════════════════════════════════════════════════════════════╝\n"
     ]
    }
   ],
   "source": [
    "\n",
    "res = np.array([[A[0][0]*B[0][0] + A[0][1]*B[1][0] + A[0][2]*B[2][0], A[0][0]*B[0][1] + A[0][1]*B[1][1] + A[0][2]*B[2][1], A[0][0]*B[0][2] + A[0][1]*B[1][2] + A[0][2]*B[2][2]], [A[1][0]*B[0][0] + A[1][1]*B[1][0] + A[1][2]*B[2][0], A[1][0]*B[0][1] + A[1][1]*B[1][1] + A[1][2]*B[2][1], A[1][0]*B[0][2] + A[1][1]*B[1][2] + A[1][2]*B[2][2]], [A[2][0]*B[0][0] + A[2][1]*B[1][0] + A[2][2]*B[2][0], A[2][0]*B[0][1] + A[2][1]*B[1][1] + A[2][2]*B[2][1], A[2][0]*B[0][2] + A[2][1]*B[1][2] + A[2][2]*B[2][2]]])\n",
    "ans(\"Result calculated from scratch implementation using NumPy:\\n{}\".format(res))"
   ]
  },
  {
   "source": [
    "## [Problem 3] Implementation of calculation of a certain element"
   ],
   "cell_type": "markdown",
   "metadata": {}
  },
  {
   "cell_type": "code",
   "execution_count": 18,
   "metadata": {},
   "outputs": [
    {
     "output_type": "stream",
     "name": "stdout",
     "text": [
      "\n╔═════════════════════════════════════════════╗\n║  ANSWER: Result when using NumPy functions: ║\n║ [[  6.  29. -20.]                           ║\n║  [ 12.  52.  38.]                           ║\n║  [-18. -51. -48.]]                          ║\n╚═════════════════════════════════════════════╝\n"
     ]
    }
   ],
   "source": [
    "res = np.zeros((len(A), len(B[0])))\n",
    "for i in range(len(A)):\n",
    "   for j in range(len(B[0])):\n",
    "       for k in range(len(B)):\n",
    "           res[i][j] += A[i][k] * B[k][j]\n",
    "ans(\"Result when using NumPy functions:\\n{}\".format(res))"
   ]
  },
  {
   "source": [
    "## [Problem 4] Creating a function that performs matrix multiplication"
   ],
   "cell_type": "markdown",
   "metadata": {}
  },
  {
   "cell_type": "code",
   "execution_count": 20,
   "metadata": {},
   "outputs": [
    {
     "output_type": "stream",
     "name": "stdout",
     "text": [
      "\n╔═════════════════════════════════════════════╗\n║  ANSWER: Result when using NumPy functions: ║\n║ [[ 21. -18.   1.]                           ║\n║  [-66.  57.   8.]]                          ║\n╚═════════════════════════════════════════════╝\n"
     ]
    }
   ],
   "source": [
    "def matrix_prod(A, B):\n",
    "    res = np.zeros((len(A), len(B[0])))\n",
    "    for i in range(len(A)):\n",
    "        for j in range(len(B[0])):\n",
    "            for k in range(len(B)):\n",
    "                res[i][j] += A[i][k] * B[k][j]\n",
    "    return res\n",
    "\n",
    "ans(\"Result when using NumPy functions:\\n{}\".format(matrix_prod(np.array([[-1, 2, 3], [4, -5, 6]]), np.array([[-9, 8, 7], [6, -5, 4]]))))"
   ]
  },
  {
   "source": [
    "## [Problem 5] Judge the input whose calculation is not defined"
   ],
   "cell_type": "markdown",
   "metadata": {}
  },
  {
   "cell_type": "code",
   "execution_count": 28,
   "metadata": {},
   "outputs": [],
   "source": [
    "d_ndarray = np.array([[-1, 2, 3], [4, -5, 6]])\n",
    "e_ndarray = np.array([[-9, 8, 7], [6, -5, 4]])"
   ]
  },
  {
   "cell_type": "code",
   "execution_count": 33,
   "metadata": {},
   "outputs": [
    {
     "output_type": "stream",
     "name": "stdout",
     "text": [
      "\n╔═══════════════════════════════════════╗\n║  ANSWER: Error, incompatible shapes   ║\n╚═══════════════════════════════════════╝\n"
     ]
    }
   ],
   "source": [
    "def good_matrix_prod(A, B):\n",
    "    if len(A[0]) != len(B):\n",
    "        ans(\"Error, incompatible shapes\")\n",
    "        return\n",
    "    res = np.zeros((len(A), len(B[0])))\n",
    "    for i in range(len(A)):\n",
    "        for j in range(len(B[0])):\n",
    "            for k in range(len(B)):\n",
    "                res[i][j] += A[i][k] * B[k][j]\n",
    "    return res\n",
    "\n",
    "good_matrix_prod(d_ndarray, e_ndarray)"
   ]
  },
  {
   "source": [
    "## [Problem 6] Transposition"
   ],
   "cell_type": "markdown",
   "metadata": {}
  },
  {
   "cell_type": "code",
   "execution_count": 34,
   "metadata": {},
   "outputs": [
    {
     "output_type": "stream",
     "name": "stdout",
     "text": [
      "\n╔══════════════════════════════════════════════╗\n║  ANSWER: Product of d_ndarray and e_ndarray: ║\n║ [[ 46.  -4.]                                 ║\n║  [-34.  73.]]                                ║\n╚══════════════════════════════════════════════╝\n"
     ]
    }
   ],
   "source": [
    "\n",
    "ans(\"Product of d_ndarray and e_ndarray:\\n{}\".format(good_matrix_prod(d_ndarray, e_ndarray.T)))"
   ]
  }
 ]
}