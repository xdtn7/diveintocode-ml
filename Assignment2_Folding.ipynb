{
 "metadata": {
  "language_info": {
   "codemirror_mode": {
    "name": "ipython",
    "version": 3
   },
   "file_extension": ".py",
   "mimetype": "text/x-python",
   "name": "python",
   "nbconvert_exporter": "python",
   "pygments_lexer": "ipython3",
   "version": "3.9.1-final"
  },
  "orig_nbformat": 2,
  "kernelspec": {
   "name": "python3",
   "display_name": "Python 3.9.1 64-bit",
   "metadata": {
    "interpreter": {
     "hash": "4b05836556004184389cc01511764989dd7ccbe40690a958a2cd6bd7c146918b"
    }
   }
  }
 },
 "nbformat": 4,
 "nbformat_minor": 2,
 "cells": [
  {
   "source": [
    "# Assignment 2 Folding paper\n",
    "\n",
    "## Problem 1:"
   ],
   "cell_type": "markdown",
   "metadata": {}
  },
  {
   "source": [
    "#Problem 1: \n",
    "\n",
    "thickness = 0.00008  #t0\n",
    "Fuji_height = 3776\n",
    "cnt = 0\n",
    "\n",
    "while thickness < Fuji_height:\n",
    "    thickness *= 2\n",
    "    cnt += 1\n",
    "\n",
    "print(\"Number of folding times needed for the thickness exceeding the Mount Fuji is {} times\".format(cnt))\n"
   ],
   "cell_type": "code",
   "metadata": {},
   "execution_count": 12,
   "outputs": [
    {
     "output_type": "stream",
     "name": "stdout",
     "text": [
      "Number of folding times needed for the thickness exceeding the Mount Fuji is 26 times\n"
     ]
    }
   ]
  },
  {
   "source": [
    "## Problem 2:"
   ],
   "cell_type": "markdown",
   "metadata": {}
  },
  {
   "cell_type": "code",
   "execution_count": 16,
   "metadata": {},
   "outputs": [
    {
     "output_type": "stream",
     "name": "stdout",
     "text": [
      "Number of folding times needed for the thickness exceeding the distance to closest non-sun star is 69 times\n"
     ]
    }
   ],
   "source": [
    "def compute_no_time(distance_):\n",
    "    thickness = 0.00008  #t0\n",
    "    cnt = 0\n",
    "    while thickness < distance_:\n",
    "        thickness *= 2\n",
    "        cnt += 1\n",
    "    return cnt\n",
    "\n",
    "dis = 4.22\n",
    "lyear2met = 9.4605284 * (10**15)\n",
    "\n",
    "print(\"Number of folding times needed for the thickness exceeding the distance to closest non-sun star is {} times\".format(compute_no_time(dis*lyear2met)))"
   ]
  },
  {
   "source": [
    "## Reference for [The closest non-sun star](https://www.space.com/18090-alpha-centauri-nearest-star-system.html \"Alpha Centauri: Closest Star to Earth\")."
   ],
   "cell_type": "markdown",
   "metadata": {}
  },
  {
   "source": [
    "## Problem 3:"
   ],
   "cell_type": "markdown",
   "metadata": {}
  },
  {
   "cell_type": "code",
   "execution_count": 47,
   "metadata": {},
   "outputs": [
    {
     "output_type": "stream",
     "name": "stdout",
     "text": [
      "The length needed to fold paper until the thickness reach the Moon is 3.240919444170781e+21, to reach Mount Fuji it has to be 188646348487.24017 and it must be 1.4595803601100348e+37 to reach the star closest to sun\n"
     ]
    }
   ],
   "source": [
    "import math\n",
    "\n",
    "def compute_length(times_):\n",
    "    init_thickness = 0.00008\n",
    "\n",
    "    return (((math.pi * init_thickness)/6))*(2**times_ + 4)*(2**times_  - 1)\n",
    "\n",
    "\n",
    "    \n",
    "\n",
    "Moon = 384400000        #m\n",
    "MtFuji = 3776           #m\n",
    "Star = dis*lyear2met    #m\n",
    "\n",
    "print(\"The length needed to fold paper until the thickness reach the Moon is {}, to reach Mount Fuji it has to be {} and it must be {} to reach the star closest to sun\".format(compute_length(compute_no_time(Moon)), compute_length(compute_no_time(MtFuji)), compute_length(compute_no_time(Star)))) "
   ]
  }
 ]
}